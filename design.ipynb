{
  "nbformat": 4,
  "nbformat_minor": 0,
  "metadata": {
    "colab": {
      "name": "design.ipynb",
      "provenance": [],
      "collapsed_sections": []
    },
    "kernelspec": {
      "name": "python3",
      "display_name": "Python 3"
    },
    "language_info": {
      "name": "python"
    },
    "accelerator": "GPU"
  },
  "cells": [
    {
      "cell_type": "markdown",
      "source": [
        "## Notes\n",
        "\n",
        "This notebook is designed to be run in **Colab (Google Colaboratory)**, not in your local Jupyter Notebook environment.\n",
        "\n",
        "So, if you want to run it locally, please rewrite the PATH settings of each cell and the file input/output code appropriately."
      ],
      "metadata": {
        "id": "1pZe3_NEFeZJ"
      }
    },
    {
      "cell_type": "code",
      "execution_count": null,
      "metadata": {
        "id": "uTGNO0O1aY5Q"
      },
      "outputs": [],
      "source": [
        "#@title Install { display-mode: \"form\" }\n",
        "%%bash\n",
        "if [ ! -d af_backprop ]; then\n",
        "  git clone https://github.com/sokrypton/af_backprop.git\n",
        "#   cd af_backprop\n",
        "#   # 7246fe5 on 25 Feb\n",
        "#   git reset --hard 7246fe544e\n",
        "#   cd /content\n",
        "  pip -q install biopython dm-haiku==0.0.5 ml-collections py3Dmol\n",
        "fi\n",
        "if [ ! -d params ]; then\n",
        "  mkdir params\n",
        "  curl -fsSL https://storage.googleapis.com/alphafold/alphafold_params_2021-07-14.tar | tar x -C params\n",
        "fi\n",
        "# Latest commit fc00f95 on 21 Dec 2021\n",
        "wget -qnc https://raw.githubusercontent.com/sokrypton/ColabFold/fc00f951cef535d3a643bf432f965b4eeba71b0e/colabfold/colabfold.py\n",
        "# Download solubility-aware design.py\n",
        "wget https://raw.githubusercontent.com/ohuelab/Solubility_AfDesign/solubility/design.py\n",
        "wget https://raw.githubusercontent.com/ohuelab/Solubility_AfDesign/solubility/design_util.py\n",
        "wget https://raw.githubusercontent.com/ohuelab/Solubility_AfDesign/solubility/constant.py\n",
        "\n",
        "def color_seq_solubility(input):\n",
        "    hydrophilic = [\"R\", \"K\", \"D\", \"E\", \"N\", \"Q\"]\n",
        "    neutral = [\"S\", \"G\", \"H\", \"T\", \"A\", \"P\"]\n",
        "    hydrophobic = [\"Y\", \"V\", \"M\", \"C\", \"L\", \"F\", \"I\", \"W\"]\n",
        "    HPH='\\033[094m'\n",
        "    NEU='\\033[092m'\n",
        "    HPO='\\033[090m'\n",
        "    END='\\033[0m'\n",
        "    result = []\n",
        "    for i in input:\n",
        "        if i in hydrophilic:\n",
        "            result.append(HPH + i + END)\n",
        "        elif i in neutral:\n",
        "            result.append(NEU + i + END)\n",
        "        elif i in hydrophobic:\n",
        "            result.append(HPO + i + END)\n",
        "        else:\n",
        "            result.append(i)\n",
        "    print(\"\".join(result))"
      ]
    },
    {
      "cell_type": "code",
      "source": [
        "#@title import libraries\n",
        "import sys\n",
        "sys.path.append('/content/af_backprop')\n",
        "\n",
        "import os\n",
        "from google.colab import files\n",
        "import numpy as np\n",
        "from IPython.display import HTML\n",
        "from design import mk_design_model, clear_mem\n",
        "from design_util import *\n",
        "\n",
        "%env TF_CUDNN_DETERMINISTIC=1"
      ],
      "metadata": {
        "id": "Bps_cuGOhQFy",
        "cellView": "form"
      },
      "execution_count": null,
      "outputs": []
    },
    {
      "cell_type": "code",
      "source": [
        "#@title Target protein, binder settings\n",
        "protocol = \"binder\"\n",
        "solubility_index = \"Solubility-Weighted Index\" #@param [\"Solubility-Weighted Index\", \"Hydropaty index\", \"Hydrophobicity index\"]\n",
        "if solubility_index == \"Solubility-Weighted Index\":\n",
        "    _solubility_index = \"swi\"\n",
        "elif solubility_index == \"Hydropaty index\":\n",
        "    _solubility_index = \"hyp\"\n",
        "elif solubility_index == \"Hydrophobicity index\":\n",
        "    _solubility_index = \"hyd\"\n",
        "\n",
        "pdb_id = \"1YCR\" #@param {type:\"string\"}\n",
        "chain = \"A\" #@param {type:\"string\"}\n",
        "solubility_weight = 0.5 #@param {type:\"number\"}\n",
        "seed = 1 #@param {type:\"integer\"}\n",
        "binder_length = 13 #@param {type:\"integer\"}\n",
        "\n",
        "clear_mem()\n",
        "model = mk_design_model(protocol=protocol, solubility_index=_solubility_index) \n",
        "model.prep_inputs(pdb_filename=get_pdb(pdb_id), chain=chain,\n",
        "                        binder_len=binder_length)"
      ],
      "metadata": {
        "id": "K65_A_hak2zv",
        "cellView": "form"
      },
      "execution_count": null,
      "outputs": []
    },
    {
      "cell_type": "code",
      "source": [
        "#@title Weight settings\n",
        "#@markdown When the solubility weight is 0, it is the same as the default AfDesign's binder hallucination protocol.\n",
        "solubility_weight = 0.5 #@param {type:\"number\"}\n",
        "#@markdown Other weight settings by default\n",
        "msa_ent = 0.01 #@param {type:\"number\"}\n",
        "plddt = 0.1 #@param {type:\"number\"}\n",
        "pae_intra = 0.1 #@param {type:\"number\"}\n",
        "pae_inter = 1.0 #@param {type:\"number\"}\n",
        "con_intra = 0.1 #@param {type:\"number\"}\n",
        "con_inter = 0.5 #@param {type:\"number\"}"
      ],
      "metadata": {
        "id": "jWB_Ue513NO8",
        "cellView": "form"
      },
      "execution_count": null,
      "outputs": []
    },
    {
      "cell_type": "markdown",
      "source": [
        "## Solubility-aware binder hallucination"
      ],
      "metadata": {
        "id": "2F083LgT9-bM"
      }
    },
    {
      "cell_type": "code",
      "source": [
        "# Solubility-aware binder design\n",
        "# If you want to try other settings, please refer to the README (https://github.com/blacktanktop/Solubility_AfDesign)\n",
        "model.restart(seed=seed)\n",
        "\n",
        "model.opt[\"weights\"].update({\"solubility\": solubility_weight, \"msa_ent\": msa_ent, \n",
        "                             \"plddt\": plddt, \"pae_intra\": pae_intra, \"pae_inter\": pae_inter,\n",
        "                             \"con_intra\": con_intra, \"con_inter\": con_inter})\n",
        "print(\"target_length\",model._target_len)\n",
        "print(\"binder_length\",model._binder_len)\n",
        "print(\"weights\",model.opt[\"weights\"])\n",
        "\n",
        "model.design_3stage(soft_iters=100, temp_iters=100, hard_iters=10)"
      ],
      "metadata": {
        "id": "vyrpNivz4-Xt"
      },
      "execution_count": null,
      "outputs": []
    },
    {
      "cell_type": "markdown",
      "source": [
        "## Animation"
      ],
      "metadata": {
        "id": "0S2iy2B89KVG"
      }
    },
    {
      "cell_type": "code",
      "source": [
        "ani = model.animate()\n",
        "HTML(ani.to_html5_video())"
      ],
      "metadata": {
        "id": "F_Sg7jKqqK-1"
      },
      "execution_count": null,
      "outputs": []
    },
    {
      "cell_type": "code",
      "source": [
        "# download mp4 file\n",
        "ani.save(f\"./Solubility_AfDesign_{solubility_index}_{pdb_id}_{chain}.mp4\", writer=\"ffmpeg\",dpi=100)"
      ],
      "metadata": {
        "id": "oH4uyNecB_9C"
      },
      "execution_count": null,
      "outputs": []
    },
    {
      "cell_type": "markdown",
      "source": [
        "## Get best sequence"
      ],
      "metadata": {
        "id": "bJcPKSHc9m8n"
      }
    },
    {
      "cell_type": "code",
      "source": [
        "seq = model.get_seqs()[0]\n",
        "color_seq_solubility(seq)"
      ],
      "metadata": {
        "id": "ea0JCTbYwJ6K"
      },
      "execution_count": null,
      "outputs": []
    },
    {
      "cell_type": "markdown",
      "source": [
        "## Save in PDB format (target as chain A binder as chain B)"
      ],
      "metadata": {
        "id": "-EilMP3a9Ozp"
      }
    },
    {
      "cell_type": "code",
      "source": [
        "save_binder(model, f\"Solubility_AfDesign_{solubility_index}_{pdb_id}_{chain}.pdb\")"
      ],
      "metadata": {
        "id": "7UNRbURYr9k5"
      },
      "execution_count": null,
      "outputs": []
    }
  ]
}