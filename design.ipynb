{
  "cells": [
    {
      "cell_type": "markdown",
      "metadata": {
        "colab_type": "text",
        "id": "view-in-github"
      },
      "source": [
        "<a href=\"https://colab.research.google.com/github/ohuelab/Solubility_AfDesign/blob/solubility/design.ipynb\" target=\"_parent\"><img src=\"https://colab.research.google.com/assets/colab-badge.svg\" alt=\"Open In Colab\"/></a>"
      ]
    },
    {
      "attachments": {},
      "cell_type": "markdown",
      "metadata": {},
      "source": [
        "## Update 2023-06-16 Update jax, jaxlib and af_backprop for Python 3.10"
      ]
    },
    {
      "cell_type": "markdown",
      "metadata": {
        "id": "1pZe3_NEFeZJ"
      },
      "source": [
        "## References\n",
        "\n",
        "Kosugi, T.; Ohue, M. [__Solubility-Aware Protein Binding Peptide Design Using AlphaFold__](https://www.mdpi.com/2227-9059/10/7/1626). _Biomedicines_, 10(7): 1626, 2022. doi: 10.3390/biomedicines10071626\n",
        "\n",
        "Solubility_AfDesign is based on [AfDesign](https://github.com/sokrypton/ColabDesign/tree/main/af) developed by Dr. Sergey Ovchinnikov."
      ]
    },
    {
      "cell_type": "markdown",
      "metadata": {},
      "source": [
        "## Notes\n",
        "\n",
        "This notebook is designed to be run in **Colab (Google Colaboratory)**, not in your local Jupyter Notebook environment.\n",
        "\n",
        "So, if you want to run it locally, please rewrite the PATH settings of each cell and the file input/output code appropriately.\n",
        "\n",
        "Basically, Target protein, binder settings and weight settings and then run the program with Runtime -> Run all."
      ]
    },
    {
      "cell_type": "code",
      "execution_count": null,
      "metadata": {},
      "outputs": [],
      "source": [
        "!pip install jax==0.3.1\n",
        "!pip install https://storage.googleapis.com/jax-releases/cuda11/jaxlib-0.3.0+cuda11.cudnn805-cp310-none-manylinux2010_x86_64.whl"
      ]
    },
    {
      "cell_type": "code",
      "execution_count": null,
      "metadata": {
        "id": "uTGNO0O1aY5Q"
      },
      "outputs": [],
      "source": [
        "#@title Install { display-mode: \"form\" }\n",
        "%%bash\n",
        "if [ ! -d af_backprop ]; then\n",
        "  git clone -b solubility https://github.com/ohuelab/af_backprop.git\n",
        "  pip -q install biopython dm-haiku==0.0.5 ml-collections py3Dmol\n",
        "fi\n",
        "if [ ! -d params ]; then\n",
        "  mkdir params\n",
        "  curl -fsSL https://storage.googleapis.com/alphafold/alphafold_params_2021-07-14.tar | tar x -C params\n",
        "fi\n",
        "# Latest commit fc00f95 on 21 Dec 2021\n",
        "wget -qnc https://raw.githubusercontent.com/sokrypton/ColabFold/fc00f951cef535d3a643bf432f965b4eeba71b0e/colabfold/colabfold.py\n",
        "# Download solubility-aware design.py\n",
        "wget https://raw.githubusercontent.com/ohuelab/Solubility_AfDesign/solubility/design.py\n",
        "wget https://raw.githubusercontent.com/ohuelab/Solubility_AfDesign/solubility/design_util.py\n",
        "wget https://raw.githubusercontent.com/ohuelab/Solubility_AfDesign/solubility/constant.py\n"
      ]
    },
    {
      "cell_type": "code",
      "execution_count": null,
      "metadata": {
        "cellView": "form",
        "id": "Bps_cuGOhQFy"
      },
      "outputs": [],
      "source": [
        "#@title import libraries\n",
        "import sys\n",
        "sys.path.append('/content/af_backprop')\n",
        "\n",
        "import os\n",
        "from google.colab import files\n",
        "import numpy as np\n",
        "from IPython.display import HTML\n",
        "from design import mk_design_model, clear_mem\n",
        "from design_util import *\n",
        "\n",
        "def color_seq_solubility(input):\n",
        "    # Hydrophilic amino acids (R, K, D, E, N, Q) are shown in blue, neutral amino acids (S, G, H, T, A, P) are shown in green, and hydrophobic amino acids (Y, V, M, C, L, F, I, W) are shown in black.\n",
        "    hydrophilic = [\"R\", \"K\", \"D\", \"E\", \"N\", \"Q\"]\n",
        "    neutral = [\"S\", \"G\", \"H\", \"T\", \"A\", \"P\"]\n",
        "    hydrophobic = [\"Y\", \"V\", \"M\", \"C\", \"L\", \"F\", \"I\", \"W\"]\n",
        "    HPH='\\033[094m'\n",
        "    NEU='\\033[092m'\n",
        "    HPO='\\033[090m'\n",
        "    END='\\033[0m'\n",
        "    result = []\n",
        "    for i in input:\n",
        "        if i in hydrophilic:\n",
        "            result.append(HPH + i + END)\n",
        "        elif i in neutral:\n",
        "            result.append(NEU + i + END)\n",
        "        elif i in hydrophobic:\n",
        "            result.append(HPO + i + END)\n",
        "        else:\n",
        "            result.append(i)\n",
        "    print(\"\".join(result))\n",
        "\n",
        "%env TF_CUDNN_DETERMINISTIC=1"
      ]
    },
    {
      "cell_type": "code",
      "execution_count": null,
      "metadata": {
        "cellView": "form",
        "id": "K65_A_hak2zv"
      },
      "outputs": [],
      "source": [
        "#@title Target protein, binder settings\n",
        "protocol = \"binder\"\n",
        "solubility_index = \"Solubility-Weighted Index\" #@param [\"Solubility-Weighted Index\", \"Hydropathy index\", \"Hydrophobicity index\"]\n",
        "if solubility_index == \"Solubility-Weighted Index\":\n",
        "    _solubility_index = \"swi\"\n",
        "elif solubility_index == \"Hydropathy index\":\n",
        "    _solubility_index = \"hyp\"\n",
        "elif solubility_index == \"Hydrophobicity index\":\n",
        "    _solubility_index = \"hyd\"\n",
        "\n",
        "pdb_id = \"1YCR\" #@param {type:\"string\"}\n",
        "chain = \"A\" #@param {type:\"string\"}\n",
        "target_hotspot = \"\" #@param {type:\"string\"}\n",
        "if target_hotspot == \"\": target_hotspot = None\n",
        "#@markdown - restrict loss to predefined positions on target (eg. \"1-10,12,15\")\n",
        "solubility_weight = 0.5 #@param {type:\"number\"}\n",
        "seed = 1 #@param {type:\"integer\"}\n",
        "binder_length = 13 #@param {type:\"integer\"}\n",
        "\n",
        "clear_mem()\n",
        "model = mk_design_model(protocol=protocol, solubility_index=_solubility_index) \n",
        "model.prep_inputs(pdb_filename=get_pdb(pdb_id), chain=chain,hotspot=target_hotspot,\n",
        "                        binder_len=binder_length)"
      ]
    },
    {
      "cell_type": "code",
      "execution_count": null,
      "metadata": {
        "cellView": "form",
        "id": "jWB_Ue513NO8"
      },
      "outputs": [],
      "source": [
        "#@title Weight settings\n",
        "#@markdown When the solubility weight is 0, it is the same as the default AfDesign's binder hallucination protocol.\n",
        "solubility_weight = 0.5 #@param {type:\"number\"}\n",
        "#@markdown Other weight settings by default\n",
        "msa_ent = 0.01 #@param {type:\"number\"}\n",
        "plddt = 0.1 #@param {type:\"number\"}\n",
        "pae_intra = 0.1 #@param {type:\"number\"}\n",
        "pae_inter = 1.0 #@param {type:\"number\"}\n",
        "con_intra = 0.1 #@param {type:\"number\"}\n",
        "con_inter = 0.5 #@param {type:\"number\"}"
      ]
    },
    {
      "cell_type": "markdown",
      "metadata": {
        "id": "2F083LgT9-bM"
      },
      "source": [
        "## Solubility-aware binder hallucination"
      ]
    },
    {
      "cell_type": "code",
      "execution_count": null,
      "metadata": {
        "id": "vyrpNivz4-Xt"
      },
      "outputs": [],
      "source": [
        "# Solubility-aware binder design\n",
        "# If you want to try other settings, please refer to the README (https://github.com/ohuelab/Solubility_AfDesign)\n",
        "model.restart(seed=seed)\n",
        "\n",
        "model.opt[\"weights\"].update({\"solubility\": solubility_weight, \"msa_ent\": msa_ent, \n",
        "                             \"plddt\": plddt, \"pae_intra\": pae_intra, \"pae_inter\": pae_inter,\n",
        "                             \"con_intra\": con_intra, \"con_inter\": con_inter})\n",
        "print(\"target_length\",model._target_len)\n",
        "print(\"binder_length\",model._binder_len)\n",
        "print(\"weights\",model.opt[\"weights\"])\n",
        "\n",
        "model.design_3stage(soft_iters=100, temp_iters=100, hard_iters=10)"
      ]
    },
    {
      "cell_type": "markdown",
      "metadata": {
        "id": "0S2iy2B89KVG"
      },
      "source": [
        "## Animation"
      ]
    },
    {
      "cell_type": "code",
      "execution_count": null,
      "metadata": {
        "id": "F_Sg7jKqqK-1"
      },
      "outputs": [],
      "source": [
        "ani = model.animate()\n",
        "HTML(ani.to_html5_video())"
      ]
    },
    {
      "cell_type": "code",
      "execution_count": null,
      "metadata": {
        "id": "oH4uyNecB_9C"
      },
      "outputs": [],
      "source": [
        "# download mp4 file\n",
        "ani.save(f\"./Solubility_AfDesign_{solubility_index}_{pdb_id}_{chain}.mp4\", writer=\"ffmpeg\",dpi=100)"
      ]
    },
    {
      "cell_type": "markdown",
      "metadata": {
        "id": "bJcPKSHc9m8n"
      },
      "source": [
        "## Get best sequence"
      ]
    },
    {
      "cell_type": "code",
      "execution_count": null,
      "metadata": {
        "id": "ea0JCTbYwJ6K"
      },
      "outputs": [],
      "source": [
        "# Hydrophilic amino acids (R, K, D, E, N, Q) are shown in blue, neutral amino acids (S, G, H, T, A, P) are shown in green, and hydrophobic amino acids (Y, V, M, C, L, F, I, W) are shown in black.\n",
        "seq = model.get_seqs()[0]\n",
        "color_seq_solubility(seq)"
      ]
    },
    {
      "cell_type": "markdown",
      "metadata": {
        "id": "-EilMP3a9Ozp"
      },
      "source": [
        "## Save in PDB format (target as chain A, binder as chain B)"
      ]
    },
    {
      "cell_type": "code",
      "execution_count": null,
      "metadata": {
        "id": "7UNRbURYr9k5"
      },
      "outputs": [],
      "source": [
        "save_binder(model, f\"Solubility_AfDesign_{solubility_index}_{pdb_id}_{chain}.pdb\")"
      ]
    }
  ],
  "metadata": {
    "accelerator": "GPU",
    "colab": {
      "collapsed_sections": [],
      "name": "design.ipynb",
      "provenance": []
    },
    "kernelspec": {
      "display_name": "Python 3",
      "name": "python3"
    },
    "language_info": {
      "name": "python"
    }
  },
  "nbformat": 4,
  "nbformat_minor": 0
}
